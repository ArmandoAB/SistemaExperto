{
 "cells": [
  {
   "cell_type": "code",
   "execution_count": 1,
   "metadata": {},
   "outputs": [],
   "source": [
    "from enum import Enum\n",
    "\n",
    "class TipoToken(Enum):  #sistema para clasificación de palabras y conectores\n",
    "    O = 1\n",
    "    Y = 2\n",
    "    S = 3\n",
    "    N = 4\n",
    "    E = 5\n",
    "    P = 6"
   ]
  },
  {
   "cell_type": "code",
   "execution_count": 2,
   "metadata": {},
   "outputs": [],
   "source": [
    "class EstadosAnalizador(Enum):  #Sistema de guardado de Estados\n",
    "    INICIO = 1\n",
    "    PRECEDENTE = 2\n",
    "    NEGACION = 3\n",
    "    CONSECUENTE = 4\n",
    "    DISYUNCION = 5\n",
    "    CONJUNCION = 6\n",
    "    ATOMO = 7\n",
    "    ERROR1 = 8  #se esperaba un 'si', 'no' o un atomo\n",
    "    ERROR2 = 9  #se esperaba un 'no' o un atomo\n",
    "    ERROR3 = 10 #se esperaba un 'y', 'o', 'entonces' o un atomo\n",
    "    ERROR4 = 11 #se esperaba un atomo\n",
    "    FIN = 12"
   ]
  },
  {
   "cell_type": "markdown",
   "metadata": {},
   "source": [
    "## Analizador Lexico\n",
    "Un analizador lexico transforma una entrada en tokens"
   ]
  },
  {
   "cell_type": "code",
   "execution_count": 3,
   "metadata": {},
   "outputs": [],
   "source": [
    "entrada = \"Si no es un alto elfo entonces es un elfo oscuro o es un elfo del bosque\""
   ]
  },
  {
   "cell_type": "code",
   "execution_count": 4,
   "metadata": {},
   "outputs": [
    {
     "data": {
      "text/plain": [
       "['si',\n",
       " 'no',\n",
       " 'es',\n",
       " 'un',\n",
       " 'alto',\n",
       " 'elfo',\n",
       " 'entonces',\n",
       " 'es',\n",
       " 'un',\n",
       " 'elfo',\n",
       " 'oscuro',\n",
       " 'o',\n",
       " 'es',\n",
       " 'un',\n",
       " 'elfo',\n",
       " 'del',\n",
       " 'bosque']"
      ]
     },
     "execution_count": 4,
     "metadata": {},
     "output_type": "execute_result"
    }
   ],
   "source": [
    "tokens = entrada.lower().split()\n",
    "tokens"
   ]
  },
  {
   "cell_type": "code",
   "execution_count": 5,
   "metadata": {
    "vscode": {
     "languageId": "javascript"
    }
   },
   "outputs": [
    {
     "data": {
      "text/plain": [
       "[{'valor': 'si', 'tipo': <TipoToken.S: 3>},\n",
       " {'valor': 'no', 'tipo': <TipoToken.N: 4>},\n",
       " {'valor': 'es', 'tipo': <TipoToken.P: 6>},\n",
       " {'valor': 'un', 'tipo': <TipoToken.P: 6>},\n",
       " {'valor': 'alto', 'tipo': <TipoToken.P: 6>},\n",
       " {'valor': 'elfo', 'tipo': <TipoToken.P: 6>},\n",
       " {'valor': 'entonces', 'tipo': <TipoToken.E: 5>},\n",
       " {'valor': 'es', 'tipo': <TipoToken.P: 6>},\n",
       " {'valor': 'un', 'tipo': <TipoToken.P: 6>},\n",
       " {'valor': 'elfo', 'tipo': <TipoToken.P: 6>},\n",
       " {'valor': 'oscuro', 'tipo': <TipoToken.P: 6>},\n",
       " {'valor': 'o', 'tipo': <TipoToken.O: 1>},\n",
       " {'valor': 'es', 'tipo': <TipoToken.P: 6>},\n",
       " {'valor': 'un', 'tipo': <TipoToken.P: 6>},\n",
       " {'valor': 'elfo', 'tipo': <TipoToken.P: 6>},\n",
       " {'valor': 'del', 'tipo': <TipoToken.P: 6>},\n",
       " {'valor': 'bosque', 'tipo': <TipoToken.P: 6>}]"
      ]
     },
     "execution_count": 5,
     "metadata": {},
     "output_type": "execute_result"
    }
   ],
   "source": [
    "lexemas = []\n",
    "for token in tokens:\n",
    "    if token == 'o':\n",
    "        lexemas.append({\"valor\" : token , \"tipo\": TipoToken.O })\n",
    "    elif token == 'y':\n",
    "        lexemas.append({\"valor\" : token , \"tipo\": TipoToken.Y})\n",
    "    elif token == 'si':\n",
    "        lexemas.append({\"valor\" : token , \"tipo\": TipoToken.S})\n",
    "    elif token == 'entonces':\n",
    "        lexemas.append({\"valor\" : token , \"tipo\": TipoToken.E})\n",
    "    elif token == 'no':\n",
    "        lexemas.append({\"valor\" : token , \"tipo\": TipoToken.N})\n",
    "    else :\n",
    "        lexemas.append({\"valor\" :token , \"tipo\": TipoToken.P })\n",
    "        \n",
    "lexemas"
   ]
  },
  {
   "cell_type": "markdown",
   "metadata": {},
   "source": [
    "## Analizador Sintactico"
   ]
  },
  {
   "cell_type": "code",
   "execution_count": 7,
   "metadata": {},
   "outputs": [
    {
     "name": "stdout",
     "output_type": "stream",
     "text": [
      "~ es un alto elfo -> es un elfo oscuro V es un elfo del bosque\n"
     ]
    }
   ],
   "source": [
    "EstadoActual = EstadosAnalizador.INICIO\n",
    "\n",
    "regla = \"\"\n",
    "pila = \"\"\n",
    "prec = 0\n",
    "pila = []\n",
    "prop = \"\"\n",
    "l_reglas = []\n",
    "\n",
    "for lexema in lexemas:\n",
    "    if EstadoActual == EstadosAnalizador.INICIO:\n",
    "        if lexema['valor'] == \"si\":\n",
    "            EstadoActual = EstadosAnalizador.PRECEDENTE\n",
    "            prec = 1\n",
    "        elif lexema['valor'] == \"no\":\n",
    "            EstadoActual = EstadosAnalizador.NEGACION\n",
    "            if regla:\n",
    "                regla += \" \"\n",
    "            regla += \"~\"\n",
    "        elif lexema['tipo'] == TipoToken.P:\n",
    "            EstadoActual == EstadosAnalizador.ATOMO\n",
    "            pila.append(lexema['valor'])\n",
    "        else:\n",
    "            EstadoActual = EstadosAnalizador.ERROR1\n",
    "\n",
    "    elif EstadoActual == EstadosAnalizador.PRECEDENTE:\n",
    "        if lexema['valor'] == \"no\":\n",
    "            EstadoActual = EstadosAnalizador.NEGACION\n",
    "            if regla:\n",
    "                regla += \" \"\n",
    "            regla += \"~\"\n",
    "        elif lexema['tipo'] == TipoToken.P:\n",
    "            EstadoActual = EstadosAnalizador.ATOMO\n",
    "            pila.append(lexema['valor'])\n",
    "        else:\n",
    "            EstadoActual = EstadosAnalizador.ERROR2\n",
    "\n",
    "    elif EstadoActual == EstadosAnalizador.NEGACION:\n",
    "        if lexema['tipo'] == TipoToken.P:\n",
    "            EstadoActual = EstadosAnalizador.ATOMO\n",
    "            pila.append(lexema['valor'])\n",
    "        else:\n",
    "            EstadoActual = EstadosAnalizador.ERROR3\n",
    "\n",
    "    elif EstadoActual == EstadosAnalizador.CONSECUENTE:\n",
    "        if lexema['tipo'] == TipoToken.P:\n",
    "            EstadoActual = EstadosAnalizador.ATOMO\n",
    "            pila.append(lexema['valor'])\n",
    "        elif lexema['valor'] == \"no\":\n",
    "            EstadoActual = EstadosAnalizador.NEGACION\n",
    "            if regla:\n",
    "                regla += \" \"\n",
    "            regla += \"~\"\n",
    "        else:\n",
    "            EstadoActual = EstadosAnalizador.ERROR2\n",
    "\n",
    "    elif EstadoActual == EstadosAnalizador.ATOMO:\n",
    "        if lexema['valor'] == \"entonces\":\n",
    "            EstadoActual = EstadosAnalizador.CONSECUENTE\n",
    "            prop = \" \".join(pila)\n",
    "            if regla:\n",
    "                regla += \" \"\n",
    "            regla += prop\n",
    "            if regla:\n",
    "                regla += \" \"\n",
    "            regla += \"->\"\n",
    "            pila.clear()\n",
    "            prop = \"\"\n",
    "        elif lexema['valor'] == \"y\":\n",
    "            EstadoActual = EstadosAnalizador.CONJUNCION\n",
    "            prop = \" \".join(pila)\n",
    "            if regla:\n",
    "                regla += \" \"\n",
    "            regla += prop\n",
    "            if regla:\n",
    "                regla += \" \"\n",
    "            regla += \"&\"\n",
    "            pila.clear()\n",
    "            prop = \"\"\n",
    "        elif lexema['valor'] == \"o\":\n",
    "            EstadoActual = EstadosAnalizador.DISYUNCION\n",
    "            prop = \" \".join(pila)\n",
    "            if regla:\n",
    "                regla += \" \"\n",
    "            regla += prop\n",
    "            if regla:\n",
    "                regla += \" \"\n",
    "            regla += \"V\"\n",
    "            pila.clear()\n",
    "            prop = \"\"\n",
    "        elif lexema['tipo'] == TipoToken.P:\n",
    "            EstadoActual = EstadosAnalizador.ATOMO\n",
    "            pila.append(lexema['valor'])\n",
    "        else:\n",
    "            EstadoActual = EstadosAnalizador.ERROR3\n",
    "\n",
    "    elif EstadoActual == EstadosAnalizador.CONJUNCION:\n",
    "        if lexema['tipo'] == TipoToken.P:\n",
    "            EstadoActual = EstadosAnalizador.ATOMO\n",
    "            pila.append(lexema['valor'])\n",
    "        elif lexema['valor'] == \"no\":\n",
    "            EstadoActual = EstadosAnalizador.NEGACION\n",
    "            if regla:\n",
    "                regla += \" \"\n",
    "            regla += \"~\"\n",
    "        else:\n",
    "            EstadoActual = EstadosAnalizador.ERROR2\n",
    "\n",
    "    elif EstadoActual == EstadosAnalizador.DISYUNCION:\n",
    "        if lexema['tipo'] == TipoToken.P:\n",
    "            EstadoActual = EstadosAnalizador.ATOMO\n",
    "            pila.append(lexema['valor'])\n",
    "        elif lexema['valor'] == \"no\":\n",
    "            EstadoActual == EstadosAnalizador.NEGACION\n",
    "            if regla:\n",
    "                regla += \" \"\n",
    "            regla += \"~\"\n",
    "        else:\n",
    "            EstadoActual = EstadosAnalizador.ERROR4\n",
    "\n",
    "    elif EstadoActual == EstadosAnalizador.ERROR1:\n",
    "        print(\"se esperaba un 'si', 'no' o un atomo\")\n",
    "        break\n",
    "    elif EstadoActual == EstadosAnalizador.ERROR2:\n",
    "        print(\"se esperaba un 'no' o un atomo\")\n",
    "        break\n",
    "    elif EstadoActual == EstadosAnalizador.ERROR3:\n",
    "        print(\"se esperaba un 'y', 'o', 'entonces' o un atomo\")\n",
    "        break\n",
    "    elif EstadoActual == EstadosAnalizador.ERROR4:\n",
    "        print(\"se esperaba un atomo\")\n",
    "        break\n",
    "    elif EstadoActual == EstadosAnalizador.FIN:\n",
    "        break\n",
    "    else:\n",
    "        EstadoActual == EstadosAnalizador.FIN\n",
    "        if regla:\n",
    "            regla += \" \"\n",
    "        regla += prop\n",
    "\n",
    "if EstadoActual != (EstadosAnalizador.ERROR1 and EstadosAnalizador.ERROR2 and EstadosAnalizador.ERROR3 and EstadosAnalizador.ERROR4):\n",
    "    prop = \" \".join(pila)\n",
    "    if regla and prop:\n",
    "        regla += \" \" + prop\n",
    "    l_reglas.append(regla)\n",
    "\n",
    "prop = \"\"\n",
    "pila.clear()\n",
    "print(regla)\n",
    "regla = \"\""
   ]
  },
  {
   "cell_type": "code",
   "execution_count": 54,
   "metadata": {},
   "outputs": [
    {
     "name": "stdout",
     "output_type": "stream",
     "text": [
      "EstadosAnalizador.ATOMO\n"
     ]
    }
   ],
   "source": [
    "print(EstadoActual)"
   ]
  },
  {
   "cell_type": "code",
   "execution_count": 8,
   "metadata": {},
   "outputs": [
    {
     "name": "stdout",
     "output_type": "stream",
     "text": [
      "['Si no tiene orejas puntiagudas entonces no es un elfo\\n', 'Tiene pelaje y tiene ojos de gato\\n', 'Si no es un elfo alto, entonces es un elfo oscuro o es un elfo del bosque']\n"
     ]
    },
    {
     "data": {
      "text/plain": [
       "['Si no tiene orejas puntiagudas entonces no es un elfo',\n",
       " 'Tiene pelaje y tiene ojos de gato',\n",
       " 'Si no es un elfo alto, entonces es un elfo oscuro o es un elfo del bosque']"
      ]
     },
     "execution_count": 8,
     "metadata": {},
     "output_type": "execute_result"
    }
   ],
   "source": [
    "with open(\"archivo.txt\", \"r\") as archivo:\n",
    "    lineas = archivo.readlines()\n",
    "    print(lineas)\n",
    "\n",
    "erease = \"\\n\"\n",
    "reglas = []\n",
    "for linea in lineas:\n",
    "    regla = linea.replace(erease, \"\")\n",
    "    reglas.append(regla)\n",
    "\n",
    "reglas"
   ]
  }
 ],
 "metadata": {
  "kernelspec": {
   "display_name": ".venv",
   "language": "python",
   "name": "python3"
  },
  "language_info": {
   "codemirror_mode": {
    "name": "ipython",
    "version": 3
   },
   "file_extension": ".py",
   "mimetype": "text/x-python",
   "name": "python",
   "nbconvert_exporter": "python",
   "pygments_lexer": "ipython3",
   "version": "3.10.6"
  }
 },
 "nbformat": 4,
 "nbformat_minor": 2
}
