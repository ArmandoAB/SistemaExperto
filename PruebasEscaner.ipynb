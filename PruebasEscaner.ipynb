{
 "cells": [
  {
   "cell_type": "markdown",
   "metadata": {},
   "source": [
    "## Analizador Lexico\n",
    "Un analizador lexico transforma una entrada en tokens"
   ]
  },
  {
   "cell_type": "code",
   "execution_count": 23,
   "metadata": {},
   "outputs": [],
   "source": [
    "from enum import Enum\n",
    "\n",
    "class TipoToken(Enum):  #sistema para clasificación de palabras y conectores\n",
    "    O = 1\n",
    "    Y = 2\n",
    "    S = 3\n",
    "    N = 4\n",
    "    E = 5\n",
    "    P = 6"
   ]
  },
  {
   "cell_type": "code",
   "execution_count": 24,
   "metadata": {
    "vscode": {
     "languageId": "javascript"
    }
   },
   "outputs": [],
   "source": [
    "def Analizador_lexico(entrada : str) -> list:\n",
    "    lexemas.clear()\n",
    "    tokens = entrada.lower().split()\n",
    "    for token in tokens:\n",
    "        if token == 'o':\n",
    "            lexemas.append({\"valor\": token , \"tipo\": TipoToken.O })\n",
    "        elif token == 'y':\n",
    "            lexemas.append({\"valor\": token , \"tipo\": TipoToken.Y})\n",
    "        elif token == 'si':\n",
    "            lexemas.append({\"valor\": token , \"tipo\": TipoToken.S})\n",
    "        elif token == 'entonces':\n",
    "            lexemas.append({\"valor\": token , \"tipo\": TipoToken.E})\n",
    "        elif token == 'no':\n",
    "            lexemas.append({\"valor\": token , \"tipo\": TipoToken.N})\n",
    "        else :\n",
    "            lexemas.append({\"valor\":token , \"tipo\": TipoToken.P })\n",
    "            \n",
    "    return(lexemas)"
   ]
  },
  {
   "cell_type": "markdown",
   "metadata": {},
   "source": [
    "## Analizador Sintactico"
   ]
  },
  {
   "cell_type": "code",
   "execution_count": 25,
   "metadata": {},
   "outputs": [],
   "source": [
    "class EstadosAnalizador(Enum):  #Sistema de guardado de Estados\n",
    "    INICIO = 1\n",
    "    PRECEDENTE = 2\n",
    "    NEGACION = 3\n",
    "    CONSECUENTE = 4\n",
    "    DISYUNCION = 5\n",
    "    CONJUNCION = 6\n",
    "    ATOMO = 7\n",
    "    ERROR1 = 8  #se esperaba un 'si', 'no' o un atomo\n",
    "    ERROR2 = 9  #se esperaba un 'no' o un atomo\n",
    "    ERROR3 = 10 #se esperaba un 'y', 'o', 'entonces' o un atomo\n",
    "    ERROR4 = 11 #se esperaba un atomo\n",
    "    ERROR5 = 12 #no se encontro un 'si' antes de 'entonces'\n",
    "    FIN = 13"
   ]
  },
  {
   "cell_type": "code",
   "execution_count": 32,
   "metadata": {},
   "outputs": [],
   "source": [
    "def Analizador_sintactico(lexemas : list):\n",
    "    regla = \"\"\n",
    "    pila = \"\"\n",
    "    prec = 0\n",
    "    pila = []\n",
    "    prop = \"\"\n",
    "\n",
    "    EstadoActual = EstadosAnalizador.INICIO\n",
    "\n",
    "    for lexema in lexemas:\n",
    "        if EstadoActual == EstadosAnalizador.INICIO:\n",
    "            if lexema['valor'] == \"si\":\n",
    "                EstadoActual = EstadosAnalizador.PRECEDENTE\n",
    "                prec = 1\n",
    "            elif lexema['valor'] == \"no\":\n",
    "                EstadoActual = EstadosAnalizador.NEGACION\n",
    "                if regla:\n",
    "                    regla += \" \"\n",
    "                regla += \"~\"\n",
    "            elif lexema['tipo'] == TipoToken.P:\n",
    "                EstadoActual = EstadosAnalizador.ATOMO\n",
    "                pila.append(lexema['valor'])\n",
    "            else:\n",
    "                EstadoActual = EstadosAnalizador.ERROR1\n",
    "\n",
    "        elif EstadoActual == EstadosAnalizador.PRECEDENTE:\n",
    "            if lexema['valor'] == \"no\":\n",
    "                EstadoActual = EstadosAnalizador.NEGACION\n",
    "                if regla:\n",
    "                    regla += \" \"\n",
    "                regla += \"~\"\n",
    "            elif lexema['tipo'] == TipoToken.P:\n",
    "                EstadoActual = EstadosAnalizador.ATOMO\n",
    "                pila.append(lexema['valor'])\n",
    "            else:\n",
    "                EstadoActual = EstadosAnalizador.ERROR2\n",
    "\n",
    "        elif EstadoActual == EstadosAnalizador.NEGACION:\n",
    "            if lexema['tipo'] == TipoToken.P:\n",
    "                EstadoActual = EstadosAnalizador.ATOMO\n",
    "                pila.append(lexema['valor'])\n",
    "            else:\n",
    "                EstadoActual = EstadosAnalizador.ERROR3\n",
    "\n",
    "        elif EstadoActual == EstadosAnalizador.CONSECUENTE:\n",
    "            if lexema['tipo'] == TipoToken.P:\n",
    "                EstadoActual = EstadosAnalizador.ATOMO\n",
    "                pila.append(lexema['valor'])\n",
    "            elif lexema['valor'] == \"no\":\n",
    "                EstadoActual = EstadosAnalizador.NEGACION\n",
    "                if regla:\n",
    "                    regla += \" \"\n",
    "                regla += \"~\"\n",
    "            else:\n",
    "                EstadoActual = EstadosAnalizador.ERROR2\n",
    "\n",
    "        elif EstadoActual == EstadosAnalizador.ATOMO:\n",
    "            if lexema['valor'] == \"entonces\" and prec == 1:\n",
    "                EstadoActual = EstadosAnalizador.CONSECUENTE\n",
    "                prop = \" \".join(pila)\n",
    "                if regla:\n",
    "                    regla += \" \"\n",
    "                regla += prop\n",
    "                if regla:\n",
    "                    regla += \" \"\n",
    "                regla += \"->\"\n",
    "                pila.clear()\n",
    "                prop = \"\"\n",
    "            elif lexema['valor'] == \"y\":\n",
    "                EstadoActual = EstadosAnalizador.CONJUNCION\n",
    "                prop = \" \".join(pila)\n",
    "                if regla:\n",
    "                    regla += \" \"\n",
    "                regla += prop\n",
    "                if regla:\n",
    "                    regla += \" \"\n",
    "                regla += \"&\"\n",
    "                pila.clear()\n",
    "                prop = \"\"\n",
    "            elif lexema['valor'] == \"o\":\n",
    "                EstadoActual = EstadosAnalizador.DISYUNCION\n",
    "                prop = \" \".join(pila)\n",
    "                if regla:\n",
    "                    regla += \" \"\n",
    "                regla += prop\n",
    "                if regla:\n",
    "                    regla += \" \"\n",
    "                regla += \"V\"\n",
    "                pila.clear()\n",
    "                prop = \"\"\n",
    "            elif lexema['tipo'] == TipoToken.P:\n",
    "                EstadoActual = EstadosAnalizador.ATOMO\n",
    "                pila.append(lexema['valor'])\n",
    "            elif lexema['valor'] == \"entonces\" and prec == 0:\n",
    "                EstadoActual = EstadosAnalizador.ERROR5\n",
    "            else:\n",
    "                EstadoActual = EstadosAnalizador.ERROR3\n",
    "\n",
    "        elif EstadoActual == EstadosAnalizador.CONJUNCION:\n",
    "            if lexema['tipo'] == TipoToken.P:\n",
    "                EstadoActual = EstadosAnalizador.ATOMO\n",
    "                pila.append(lexema['valor'])\n",
    "            elif lexema['valor'] == \"no\":\n",
    "                EstadoActual = EstadosAnalizador.NEGACION\n",
    "                if regla:\n",
    "                    regla += \" \"\n",
    "                regla += \"~\"\n",
    "            else:\n",
    "                EstadoActual = EstadosAnalizador.ERROR2\n",
    "\n",
    "        elif EstadoActual == EstadosAnalizador.DISYUNCION:\n",
    "            if lexema['tipo'] == TipoToken.P:\n",
    "                EstadoActual = EstadosAnalizador.ATOMO\n",
    "                pila.append(lexema['valor'])\n",
    "            elif lexema['valor'] == \"no\":\n",
    "                EstadoActual == EstadosAnalizador.NEGACION\n",
    "                if regla:\n",
    "                    regla += \" \"\n",
    "                regla += \"~\"\n",
    "            else:\n",
    "                EstadoActual = EstadosAnalizador.ERROR2\n",
    "\n",
    "        elif EstadoActual == EstadosAnalizador.ERROR1:\n",
    "            print(\"se esperaba un 'si', 'no' o un atomo\")\n",
    "            regla = \"\"\n",
    "            prop = \"\"\n",
    "            pila.clear()\n",
    "            break\n",
    "        elif EstadoActual == EstadosAnalizador.ERROR2:\n",
    "            print(\"se esperaba un 'no' o un atomo\")\n",
    "            regla = \"\"\n",
    "            prop = \"\"\n",
    "            pila.clear()\n",
    "            break\n",
    "        elif EstadoActual == EstadosAnalizador.ERROR3:\n",
    "            regla = \"\"\n",
    "            prop = \"\"\n",
    "            pila.clear()\n",
    "            print(\"se esperaba un 'y', 'o', 'entonces' o un atomo\")\n",
    "            break\n",
    "        elif EstadoActual == EstadosAnalizador.ERROR4:\n",
    "            print(\"se esperaba un atomo\")\n",
    "            regla = \"\"\n",
    "            prop = \"\"\n",
    "            pila.clear()\n",
    "            break\n",
    "        elif EstadoActual == EstadosAnalizador.ERROR5:\n",
    "            print(\"no se encontro un 'si' antes de 'entonces'\")\n",
    "            regla = \"\"\n",
    "            prop = \"\"\n",
    "            pila.clear()\n",
    "            break\n",
    "        else:\n",
    "            EstadoActual == EstadosAnalizador.FIN\n",
    "\n",
    "    if EstadoActual != (EstadosAnalizador.ERROR1 and EstadosAnalizador.ERROR2 and EstadosAnalizador.ERROR3 and EstadosAnalizador.ERROR4 and EstadosAnalizador.ERROR5):\n",
    "        prop = \" \".join(pila)\n",
    "        if regla and prop:\n",
    "            regla += \" \" + prop\n",
    "        else:\n",
    "            regla = prop\n",
    "        l_reglas.append(regla)\n",
    "        prop = \"\"\n",
    "        pila.clear()\n",
    "        regla = \"\"\n",
    "    \n",
    "    return(l_reglas)"
   ]
  },
  {
   "cell_type": "code",
   "execution_count": 33,
   "metadata": {},
   "outputs": [
    {
     "name": "stdout",
     "output_type": "stream",
     "text": [
      "Si es de dia o es de noche entonces existo\n",
      "Es de dia\n"
     ]
    },
    {
     "data": {
      "text/plain": [
       "['es de dia V es de noche -> existo', 'es de dia']"
      ]
     },
     "execution_count": 33,
     "metadata": {},
     "output_type": "execute_result"
    }
   ],
   "source": [
    "lexemas = []\n",
    "l_reglas = []\n",
    "Palabras = []\n",
    "\n",
    "frases = [\n",
    "    \"Si es de dia o es de noche entonces existo\",\n",
    "    \"Es de dia\"]\n",
    "\n",
    "for frase in frases:\n",
    "    print(frase)\n",
    "    Palabras.clear()\n",
    "    Palabras = Analizador_lexico(frase)\n",
    "    Analizador_sintactico(Palabras)\n",
    "\n",
    "l_reglas"
   ]
  },
  {
   "cell_type": "markdown",
   "metadata": {},
   "source": [
    "## Prueba de lectura de archivos"
   ]
  },
  {
   "cell_type": "code",
   "execution_count": 34,
   "metadata": {},
   "outputs": [
    {
     "name": "stdout",
     "output_type": "stream",
     "text": [
      "Si no tiene orejas puntiagudas entonces no es un elfo\n",
      "Si tiene pelaje o sus ojos parecen animales entonces no es un elfo\n",
      "Si no es un elfo alto entonces es un elfo oscuro o es un elfo del bosque\n",
      "Si tiene piel oscura entonces es un elfo o es un guarda rojo\n",
      "Si tiene piel clara y no tiene orejas puntiagudas entonces es un nordico\n",
      "Si tiene colmillos entonces es un orco o es un kahjiit\n",
      "Si es un ser humano y no es nordico o no es un guarda rojo entonces es un imperial o es un breton\n",
      "Si usa magia de forma natural entonces es un breton o es un elfo oscuro o es un alto elfo\n",
      "Si es muy habil con las armas pesadas entonces es un orco o es un nordico o es un guarda rojo\n",
      "Si es muy habil al ser sigiloso entonces es un kahjiit o un elfo del bosque\n",
      "Es un kahjiit entonces puede ver en la oscuridad\n",
      "no se encontro un 'si' antes de 'entonces'\n"
     ]
    },
    {
     "data": {
      "text/plain": [
       "['~ tiene orejas puntiagudas -> ~ es un elfo',\n",
       " 'tiene pelaje V sus ojos parecen animales -> ~ es un elfo',\n",
       " '~ es un elfo alto -> es un elfo oscuro V es un elfo del bosque',\n",
       " 'tiene piel oscura -> es un elfo V es un guarda rojo',\n",
       " 'tiene piel clara & ~ tiene orejas puntiagudas -> es un nordico',\n",
       " 'tiene colmillos -> es un orco V es un kahjiit',\n",
       " 'es un ser humano & ~ es nordico V ~ es un guarda rojo -> es un imperial V es un breton',\n",
       " 'usa magia de forma natural -> es un breton V es un elfo oscuro V es un alto elfo',\n",
       " 'es muy habil con las armas pesadas -> es un orco V es un nordico V es un guarda rojo',\n",
       " 'es muy habil al ser sigiloso -> es un kahjiit V un elfo del bosque']"
      ]
     },
     "execution_count": 34,
     "metadata": {},
     "output_type": "execute_result"
    }
   ],
   "source": [
    "lexemas = []\n",
    "l_reglas = []\n",
    "Palabras = []\n",
    "\n",
    "with open(\"reglas-texto.txt\", \"r\") as archivo:\n",
    "    lineas = archivo.readlines()\n",
    "\n",
    "erease = \"\\n\"\n",
    "enun = []\n",
    "for linea in lineas:\n",
    "    ent = linea.replace(erease, \"\")\n",
    "    enun.append(ent)\n",
    "\n",
    "for frase in enun:\n",
    "    print(frase)\n",
    "    Palabras.clear()\n",
    "    Palabras = Analizador_lexico(frase)\n",
    "    Analizador_sintactico(Palabras)\n",
    "\n",
    "l_reglas"
   ]
  },
  {
   "cell_type": "markdown",
   "metadata": {},
   "source": [
    "## Analizador semántico"
   ]
  }
 ],
 "metadata": {
  "kernelspec": {
   "display_name": ".venv",
   "language": "python",
   "name": "python3"
  },
  "language_info": {
   "codemirror_mode": {
    "name": "ipython",
    "version": 3
   },
   "file_extension": ".py",
   "mimetype": "text/x-python",
   "name": "python",
   "nbconvert_exporter": "python",
   "pygments_lexer": "ipython3",
   "version": "3.10.6"
  }
 },
 "nbformat": 4,
 "nbformat_minor": 2
}
